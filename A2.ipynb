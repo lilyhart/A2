{
 "cells": [
  {
   "cell_type": "markdown",
   "metadata": {},
   "source": [
    "# Assignment A2 [40 marks]\n",
    "\n",
    "The assignment consists of 3 exercises. Each exercise may contain coding and/or discussion questions.\n",
    "- Type your **code** in the **code cells** provided below each question.\n",
    "- For **discussion** questions, use the **Markdown cells** provided below each question, indicated by 📝. Double-click these cells to edit them, and run them to display your Markdown-formatted text. Please refer to the Week 1 tutorial notebook for Markdown syntax."
   ]
  },
  {
   "cell_type": "markdown",
   "metadata": {},
   "source": [
    "---\n",
    "## Question 1: Numerical Differentiation [10 marks]\n",
    "\n",
    "A general $N$-point finite difference approximation of the derivative $F' \\left( x \\right)$ of a sufficiently smooth function $F \\left( x \\right)$ can be written as\n",
    "\n",
    "$$\n",
    "F' \\left( x \\right) \\approx \\frac{1}{\\Delta x} \\sum_{i = 1}^N \\alpha_i F \\left( x + \\beta_i \\Delta x \\right),\n",
    "\\qquad \\qquad \\qquad (1)\n",
    "$$\n",
    "\n",
    "with step size $\\Delta x > 0$, and $\\alpha_i, \\beta_i \\in \\mathbb{Q}$, with $\\beta_i \\neq \\beta_j$ for $i\\neq j$. For example, the centred difference approximation $D_C(x)$ seen in the course has $N = 2$, and\n",
    "\n",
    "$$\n",
    "\\begin{cases}\n",
    "\\alpha_1 = \\frac{1}{2}, &\\alpha_2 = -\\frac{1}{2}, \\\\\n",
    "\\beta_1 = 1, &\\beta_2 = -1,\n",
    "\\end{cases}\n",
    "\\qquad\n",
    "\\text{giving} \\quad\n",
    "F'(x) \\approx \\frac{1}{2\\Delta x} \\left(F\\left(x + \\Delta x\\right) - F\\left(x - \\Delta x\\right)\\right).\n",
    "$$\n",
    "\n",
    "**1.1** Consider another finite difference approximation defined as in $(1)$, this time with $N=3$, and\n",
    "\n",
    "$$\n",
    "\\begin{cases}\n",
    "\\alpha_1 = -\\frac{4}{23}, &\\alpha_2 = -\\frac{9}{17}, &\\alpha_3 = \\frac{275}{391} \\\\\n",
    "\\beta_1 = -\\frac{3}{2}, &\\beta_2 = -\\frac{1}{3}, &\\beta_2 = \\frac{4}{5}\n",
    "\\end{cases}.\n",
    "$$\n",
    "\n",
    "Investigate the accuracy of this approximation.\n",
    "\n",
    "**[5 marks]**"
   ]
  },
  {
   "cell_type": "code",
   "execution_count": 48,
   "metadata": {},
   "outputs": [
    {
     "data": {
      "image/png": "[encoded data removed]",
      "text/plain": [
       "<Figure size 432x288 with 1 Axes>"
      ]
     },
     "metadata": {
      "needs_background": "light"
     },
     "output_type": "display_data"
    },
    {
     "name": "stdout",
     "output_type": "stream",
     "text": [
      "[3.9990203  2.24941267 1.77728509 1.56204181 1.43955455 1.36066816\n",
      " 1.30567638 1.2651724  1.23410656 1.20952838 1.18959966 1.17311595\n",
      " 1.15925537 1.14743797 1.13724292 1.12835745 1.12054427 1.11362013\n",
      " 1.10744128 1.10189332 1.09688416 1.09233876 1.0881954  1.08440286\n",
      " 1.08091825 1.07770539 1.07473357 1.07197651 1.06941165 1.06701946\n",
      " 1.06478297 1.06268738 1.06071968 1.05886844 1.05712354 1.055476\n",
      " 1.05391782 1.05244187 1.05104173 1.04971166 1.04844647 1.04724147\n",
      " 1.04609242 1.04499546 1.04394708 1.04294408 1.04198354 1.04106277\n",
      " 1.04017933]\n",
      "The error and the step size seem to have a squared relatipnship. When the step size is doubled, the error is roughly multiplied by 4. This suggests that the approximation is second order accurate.\n"
     ]
    }
   ],
   "source": [
    "import numpy as np\n",
    "import matplotlib.pyplot as plt\n",
    "\n",
    "def finitedif(F, x, dx):\n",
    "    \n",
    "    a = [-4/23, -9/17, 275/391]\n",
    "    b = [-3/2, -1/3, 4/5]\n",
    "\n",
    "# Defining differential of F(x) as dF\n",
    "    dF = 0\n",
    "\n",
    "# Finite approximation for N = 3\n",
    "    for i in range(0,3):\n",
    "        dF += (1/dx)*a[i]*F(x+b[i]*dx)\n",
    "    return dF\n",
    "\n",
    "# example of a smooth function to test accuracy\n",
    "def f(x):\n",
    "    return np.sin(x)\n",
    "x = 3\n",
    "\n",
    "error = []\n",
    "dx = []\n",
    "\n",
    "#calculates value of F'(x) for different step sizes and compares the to exact value to find error\n",
    "for i in range(1,51):\n",
    "    error.append(abs(finitedif(f,x,0.01*i)-np.cos(x)))\n",
    "    dx.append(0.01*i)\n",
    "\n",
    "error_1 = np.array(error)\n",
    "\n",
    "# Plots a graph of error against step size to observe relationship and find accuracy order.\n",
    "plt.plot(dx,error)\n",
    "plt.title('error against step size')\n",
    "plt.xlabel(\"dx\")\n",
    "plt.ylabel(\"err\")\n",
    "    \n",
    "plt.show()  \n",
    "# Looking at the ratios between successive values of the error.\n",
    "print(error_1[1:] / error_1[:-1])\n",
    "print('The error and the step size seem to have a squared relatipnship. When the step size is doubled, the error is roughly multiplied by 4. This suggests that the approximation is second order accurate.')"
   ]
  },
  {
   "cell_type": "markdown",
   "metadata": {},
   "source": [
    "**1.2** For an arbitrary choice of $\\beta_i$ values, what is the minimum number of points $N_{p}$ required to find an approximation $(1)$ which is at least $p$th order accurate?\n",
    "\n",
    "*Hint:* consider the Taylor expansion of $F \\left( x + \\beta_i \\Delta x \\right)$ around $x$.\n",
    "\n",
    "**[3 marks]**"
   ]
  },
  {
   "cell_type": "markdown",
   "metadata": {},
   "source": [
    "***📝 Discussion for question 1.2\n",
    "\n",
    "\n"
   ]
  },
  {
   "cell_type": "markdown",
   "metadata": {},
   "source": [
    "**1.3** Using your reasoning from **1.2**, write a function `FD_coefficients()` which, given $N_p$ values $\\beta_i$, returns $N_p$ coefficients $\\alpha_i$ such that the approximation $(1)$ is at least $p$th order accurate.\n",
    "\n",
    "Use your function to obtain the coefficients $\\alpha_i$ from **1.1**.\n",
    "\n",
    "**[2 marks]**"
   ]
  },
  {
   "cell_type": "code",
   "execution_count": null,
   "metadata": {},
   "outputs": [],
   "source": []
  },
  {
   "cell_type": "markdown",
   "metadata": {},
   "source": [
    "---\n",
    "## Question 2: Root Finding [10 marks]\n",
    "\n",
    "Consider the following polynomial of cubic order,\n",
    "\n",
    "$$\n",
    "p(z) = z^3 + (c-1)z - c,\n",
    "$$\n",
    "where $c \\in \\mathbb{C}$.\n",
    "\n",
    "This polynomial is complex differentiable, and we can apply Newton's method to find a complex root $z_\\ast$, using a complex initial guess $z_0 = a_0 + ib_0$. In this problem, we seek to map the values of $z_0$ which lead to convergence to a root of $p$.\n",
    "\n",
    "**2.1** Write a function `complex_newton(amin, amax, bmin, bmax, c, N, eps, target_roots)` which implements Newton's method to find roots of $p(z)$ using $N^2$ initial guesses $z_0 = a_0 + ib_0$. The input arguments are as follows:\n",
    "\n",
    "- The real part $a_0$ of the initial guess should take `N` linearly spaced values between `amin` and `amax` (inclusive).\n",
    "- The imaginary part $b_0$ of the initial guess should take `N` linearly spaced values between `bmin` and `bmax` (inclusive).\n",
    "- `c` is the parameter $c \\in \\mathbb{C}$ in $p(z)$.\n",
    "- `eps` is the tolerance $\\varepsilon > 0$.\n",
    "- `target_root` takes one of the following values:\n",
    "    - if `target_root` is given as `None`, then convergence should be considered as achieved if Newton's method has converged to any root of $p$.\n",
    "    - if `target_root` is given as a number, then convergence should only be considered as achieved if Newton's method has converged to the specific root $z_\\ast =$ `target_root`.\n",
    "\n",
    "Your function should return an array `kmax` of size $N \\times N$, containing the total number of iterations required for convergence, for each value of $z_0$. You should decide what to do in case a particular value of $z_0$ doesn't lead to convergence.\n",
    "    \n",
    "Up to 2 marks will be given to solutions which iterate over each value of $z_0$. To obtain up to the full 4 marks, your implementation should be vectorised -- i.e. use a single loop to iterate Newton's method for all values of $z_0$ at once.\n",
    "\n",
    "**[4 marks]**"
   ]
  },
  {
   "cell_type": "code",
   "execution_count": 43,
   "metadata": {},
   "outputs": [],
   "source": [
    "import numpy as np\n",
    "\n",
    "    \n",
    "def complex_newton(amin, amax, bmin, bmax, c, N, eps, target_root):\n",
    "    \n",
    "# Defining the polynomial as a function\n",
    "    def p(x):\n",
    "        return x**3 + (c-1)*x - c\n",
    "    \n",
    "    z = np.zeros((N,N),dtype=complex)\n",
    "    \n",
    "    for i in range(0,N):\n",
    "        for j in range(0,N):\n",
    "            \n",
    "# creating an array of complex numbers equally spaced apart\n",
    "            z[j][i] = complex(amin+i*(amax-amin)/(N-1), bmin+j*(bmax-bmin)/(N-1))\n",
    "         \n",
    "# Array to contain number of iterations.\n",
    "    kmax = np.zeros((N,N))\n",
    "    \n",
    "    zn = z\n",
    "    \n",
    "    for n in range(0,100):\n",
    "        \n",
    "        for o in range(0,N):\n",
    "            for q in range(0,N):\n",
    "                \n",
    "# Checking if p(z) is below the tolerance.\n",
    "                if abs(p(zn[o][q])) < eps:\n",
    "                    \n",
    "# Does not matter which root if 'None'.\n",
    "                    if target_root == None:\n",
    "                        kmax[o][q] = n\n",
    "                        \n",
    "                    elif abs(zn[o][q]-target_root) < eps:\n",
    "                        kmax[o][q] = n\n",
    "                    \n",
    "# If it converges to the wrong root it returns 0\n",
    "                    else:\n",
    "                        kmax[o][q] = 0\n",
    "                        \n",
    "# Applies Newton's method across the array zn.\n",
    "        zn = zn - p(zn)/(3*zn**2+c-1)\n",
    "        \n",
    "    \n",
    "    return kmax\n",
    "    \n",
    "    "
   ]
  },
  {
   "cell_type": "markdown",
   "metadata": {},
   "source": [
    "**2.2** For $c = 0$, $a_0 \\in [-5,5]$ and $b_0 \\in [-5,5]$, with at least $N = 200$ values for each (you can increase $N$ if your computer allows it), use your function `complex_newton()` to calculate, for each $z_0 = a_0 + ib_0$, the total number of iterates needed to reach a disk of radius $\\varepsilon$ around the root at $z = 1$. Present your results in a heatmap plot, with $a_0$ on the abscissa, $b_0$ on the ordinate and a colour map showing the total number of iterates. \n",
    "\n",
    "**[3 marks]**"
   ]
  },
  {
   "cell_type": "code",
   "execution_count": 44,
   "metadata": {},
   "outputs": [
    {
     "data": {
      "image/png": "[encoded data removed]",
      "text/plain": [
       "<Figure size 432x288 with 1 Axes>"
      ]
     },
     "metadata": {
      "needs_background": "light"
     },
     "output_type": "display_data"
    }
   ],
   "source": [
    "import matplotlib.pyplot as plt\n",
    "\n",
    "a = []\n",
    "b = []\n",
    "\n",
    "# Creates lists a and b of equally spaced numbers from [-5,5]\n",
    "for i in range(0,200):\n",
    "    a.append(-5+i*(10)/(199))\n",
    "    b.append(-5+i*(10)/(199))\n",
    "    \n",
    "# An array of iterations corresponding to each complex number z.\n",
    "iterations = complex_newton(-5, 5, -5, 5, 0, 200, 0.01, 1)\n",
    "\n",
    "# Creating a heatmap plot of iterations and lists a and b.\n",
    "fig, ax = plt.subplots()\n",
    "im = ax.imshow(iterations)\n",
    "\n",
    "ax.set_xticks(np.arange(len(a)))\n",
    "ax.set_yticks(np.arange(len(b)))\n",
    "ax.set_xticklabels(a)\n",
    "ax.set_yticklabels(b)\n",
    "\n",
    "plt.setp(ax.get_xticklabels(), rotation=45, ha=\"right\",\n",
    "         rotation_mode=\"anchor\")\n",
    "\n",
    "for i in range(len(b)):\n",
    "    for j in range(len(a)):\n",
    "        text = ax.text(j, i, iterations[i, j],\n",
    "                       ha=\"center\", va=\"center\", color=\"w\")\n",
    "        \n",
    "fig.tight_layout()\n",
    "plt.show()\n"
   ]
  },
  {
   "cell_type": "markdown",
   "metadata": {},
   "source": [
    "**2.3** For $c = 0.32 + 1.64i$, map out the points $z_0$ for which Newton's method does not converge to any root. What does it do instead?\n",
    "\n",
    "*Hint:* Pick a point $z_0$ in a region where Newton's method does not converge and print out, say, 50 iterates. What do you observe?\n",
    "\n",
    "**[3 marks]**"
   ]
  },
  {
   "cell_type": "code",
   "execution_count": null,
   "metadata": {},
   "outputs": [],
   "source": []
  },
  {
   "cell_type": "markdown",
   "metadata": {},
   "source": [
    "***📝 Discussion for question 2.3***"
   ]
  },
  {
   "cell_type": "markdown",
   "metadata": {},
   "source": [
    "---\n",
    "## Question 3: Numerical Integration of an ODE [20 marks]\n",
    "\n",
    "Cardiac tissue is an example of an excitable medium, where a small stimulus can lead to a large response (a heart beat). The FitzHugh-Nagumo model describes the electrical activity of a single cardiac cell in terms of the transmembrane potential $u$ and a recovery variable $v$\n",
    "\n",
    "\\begin{align}\n",
    "        \\dot u & = f(u,v) = \\frac{1}{\\varepsilon} \\left( u - \\frac{u^3}{3} - v + I \\right) \\ , \\\\\n",
    "        \\dot v & = g(u,v) = \\varepsilon \\left( u - \\gamma v + \\beta \\right) \\ ,\n",
    "\\end{align}\n",
    "\n",
    "where $I$ (a stimulus), $\\varepsilon$, $\\gamma$, and $\\beta$ are known parameters.\n",
    "\n",
    "The equation for $u$ leads to fast dynamics with the possibility of excitation, while the linear term proportional to $-v$ in the equation for the recovery variable produces slower dynamics and negative feedback. The FitzHugh-Nagumo model is an example of a stiff differential equation, where the stiffness becomes more pronounced for smaller $\\varepsilon$.\n",
    "\n",
    "In questions **3.1**, **3.2**, and **3.3**, we take $\\varepsilon = 0.2$, $\\gamma = 0.8$, and $\\beta = 0.7$.\n",
    "\n",
    "\n",
    "**3.1** The fixed points, defined by $\\dot u = f(u, v) = 0$ and $\\dot v = g(u, v) = 0$, correspond to the state of a cell at rest. Write a function `resting_state()` to determine the values $(u_I^*, v_I^*)$ for the cell in its resting state for a given value of $I$ and a given initial guess $(u_{I, 0}, v_{I, 0})$, using Newton's method.\n",
    "\n",
    "Use your function to compute $(u_I^*, v_I^*)$ for $I=0$ and $I = 0.5$, with initial guess $(u_{I, 0}, v_{I, 0}) = (0.2, 0.2)$.\n",
    "\n",
    "\n",
    "**[5 marks]**"
   ]
  },
  {
   "cell_type": "code",
   "execution_count": 22,
   "metadata": {},
   "outputs": [
    {
     "name": "stdout",
     "output_type": "stream",
     "text": [
      "The values of u and v at resting state when I = 0 is [-1.19940804 -0.62426004]\n",
      "The values of u and v at resting state when I = 0.5 is [-0.80484775 -0.13105968]\n"
     ]
    }
   ],
   "source": [
    "\n",
    "\n",
    "import numpy as np\n",
    "\n",
    "def resting_state(I, u0, v0, gamma):\n",
    "\n",
    "# Defining the functions F and G\n",
    "    def F(u, v):\n",
    "        return 5*(u-(u**3)/3-v+I)\n",
    "    \n",
    "    def G(u, v):\n",
    "        return 0.2*(u-gamma*v+0.7)\n",
    "\n",
    "# Creating a function for the Jacobian matrix of u and v.\n",
    "    def Jac(u, v):\n",
    "        J = np.zeros([2,2])\n",
    "        J[0,0] = 5 - 5*u**2\n",
    "        J[0,1] = -5\n",
    "        J[1,0] = 1/5\n",
    "        J[1,1] = -gamma/5\n",
    "        return J\n",
    "    \n",
    "    def FG(u,v):\n",
    "        return np.array([F(u, v), G(u, v)])\n",
    "        \n",
    "    x = np.array([u0, v0])\n",
    "    \n",
    "# Keeps the loop going for as long as the norm of the array FG is greater than the tolerance.\n",
    "    while np.linalg.norm(FG(x[0], x[1])) >= 1e-12:\n",
    "        \n",
    "# Newton iteration\n",
    "        e = -np.linalg.solve(Jac(x[0], x[1]), FG(x[0], x[1]))\n",
    "        x += e\n",
    "                \n",
    "    return x\n",
    "\n",
    "print('The values of u and v at resting state when I = 0 is'+' '+ str(resting_state(0, 0.2, 0.2, 0.8)))\n",
    "print('The values of u and v at resting state when I = 0.5 is'+' '+ str(resting_state(0.5, 0.2, 0.2, 0.8)))\n"
   ]
  },
  {
   "cell_type": "markdown",
   "metadata": {},
   "source": [
    "**3.2** Using the method of your choice **\\***, compute the numerical solution $(u_n, v_n) \\approx (u(n\\Delta t), v(n\\Delta t)), n=0, 1, 2, \\dots$ for the FitzHugh-Nagumo model.\n",
    "\n",
    "You should compute the solution for both $I = 0$ and $I = 0.5$, starting at time $t = 0$ until at least $t = 100$, with $(u_0 = 0.8, v_0 = 0.8)$ as the initial condition.\n",
    "\n",
    "Present your results graphically by plotting\n",
    "\n",
    "(a) $u_n$ and $v_n$ with **time** (not time step) on the x-axis,  \n",
    "(b) $v_n$ as a function of $u_n$. This will show what we call the solution trajectories in *phase space*.\n",
    "\n",
    "You should format the plots so that the data presentation is clear and easy to understand.\n",
    "\n",
    "Given what this mathematical model describes, and given that $I$ represents a stimulus, how do you interpret your results for the two different values of $I$? Describe your observations in less than 200 words.\n",
    "\n",
    "\n",
    "**\\*** You may use e.g. the forward Euler method seen in Week 7 with a small enough time step, or use one of the functions provided by the `scipy.integrate` module, as seen in Quiz Q4.\n",
    "\n",
    "\n",
    "**[7 marks]**"
   ]
  },
  {
   "cell_type": "code",
   "execution_count": 28,
   "metadata": {},
   "outputs": [
    {
     "data": {
      "image/png": "[encoded data removed]",
      "text/plain": [
       "<Figure size 432x288 with 4 Axes>"
      ]
     },
     "metadata": {
      "needs_background": "light"
     },
     "output_type": "display_data"
    }
   ],
   "source": [
    "import matplotlib.pyplot as plt\n",
    "\n",
    "# Defines functions F and G\n",
    "def F(u, v, I):\n",
    "    return 5*(u-(u**3)/3-v+I)\n",
    "\n",
    "def G(u, v, gamma):\n",
    "    return 0.2*(u-gamma*v+0.7)\n",
    "\n",
    "# list of equally spaced values of t \n",
    "t = np.linspace(0, 100, 1001)\n",
    "dt = 100 / (1001-1)\n",
    "\n",
    "# creating two arrays for u for when I = 0 and I = 0.5.\n",
    "u0 = np.zeros(1001)\n",
    "u0[0] = 0.8\n",
    "u = np.zeros(1001)\n",
    "u[0] = 0.8\n",
    "\n",
    "# Executes the Euler method for u and v.\n",
    "for i in range(0,1000):\n",
    "    u0[i + 1] = F(u0[i], 0.8, 0) * dt + u0[i]\n",
    "    u[i + 1] = F(u[i], 0.8, 0.5) * dt + u[i]\n",
    "    \n",
    "v = np.zeros(1001)\n",
    "v[0] = 0.8\n",
    "    \n",
    "for i in range(0,1000):\n",
    "    v[i + 1] = G(0.8, v[i], 0.8) * dt + v[i]\n",
    "    \n",
    "# Creating plots for u and v against t at I=0 and I=0.5.\n",
    "plt.subplot(1, 4, 1)\n",
    "plt.plot(t,u0,label=\"u against time\")\n",
    "plt.plot(t,v,label = \"v against time\")\n",
    "plt.title('I = 0')\n",
    "plt.xlabel(\"t\")\n",
    "plt.ylabel(\"u(t) & v(t)\")    \n",
    "plt.legend(loc=\"lower right\")\n",
    "\n",
    "plt.subplot(1, 4, 2)\n",
    "plt.plot(t,u,label=\"u against time\")\n",
    "plt.plot(t,v,label = \"v against time\")\n",
    "plt.title('I = 0.5')\n",
    "plt.xlabel(\"t\")\n",
    "plt.ylabel(\"u(t) & v(t)\")    \n",
    "plt.legend(loc=\"lower right\")\n",
    "\n",
    "# Creating plots for v against u at I=0 and I=0.5.\n",
    "plt.subplot(1, 4, 3)\n",
    "plt.plot(u0,v,label=\"v against u\")\n",
    "plt.title('I = 0')\n",
    "plt.xlabel(\"u\")\n",
    "plt.ylabel(\"v(u)\")    \n",
    "plt.legend(loc=\"upper right\")\n",
    "\n",
    "plt.subplot(1, 4, 4)\n",
    "plt.plot(u,v,label=\"v against u\")\n",
    "plt.title('I = 0.5')\n",
    "plt.xlabel(\"u\")\n",
    "plt.ylabel(\"v(u)\")    \n",
    "plt.legend(loc=\"upper left\")\n",
    "\n",
    "plt.subplots_adjust(right = 2.5)\n",
    "plt.show()"
   ]
  },
  {
   "cell_type": "markdown",
   "metadata": {},
   "source": [
    "***📝 Discussion for question 3.2***\n",
    "\n",
    "The variable v is not affected by I, which is why both graphs of v against t are the same. v increases very quickly and then plateaus to a fixed value after about 20 seconds. As v represents the recovery variable, this shows that after the cardic cell is excited it recovers very quickly. Without stimulus I, the variable u drops almost instantly to -2 and stays there. This shows that without a stimulus there is almost no response in the cell, compared to when I = 0.5 and u increases almost instantly to about 15, which shows that even a small increased stimulus immediately increases the potential. This is shown again in v against u, as when I = 0 the graph has a general negative correlation, whereas with the stimulus at I = 0.5 u increases as v increases."
   ]
  },
  {
   "cell_type": "markdown",
   "metadata": {},
   "source": [
    "**3.3** Compute the eigenvalues of the Jacobi matrix\n",
    "        \n",
    "$$\n",
    "\\large\n",
    "\\begin{pmatrix}\n",
    "    \\frac{\\partial f}{\\partial u} & \\frac{\\partial f}{\\partial v} \\\\ \n",
    "    \\frac{\\partial g}{\\partial u} & \\frac{\\partial g}{\\partial v}\n",
    "\\end{pmatrix}_{u = u_I^*, v = v_I^*}\n",
    "$$\n",
    "\n",
    "evaluated at the fixed points $u = u_I^*, v = v_I^*$, for $I = 0$ and $I = 0.5$. What do you observe?\n",
    "\n",
    "*You may use NumPy built-in functions to compute eigenvalues.*\n",
    "\n",
    "\n",
    "**[3 marks]**"
   ]
  },
  {
   "cell_type": "code",
   "execution_count": 24,
   "metadata": {},
   "outputs": [
    {
     "name": "stdout",
     "output_type": "stream",
     "text": [
      "eigenvalues for I = 0 are [-1.35857198 -0.9943262 ]\n",
      "eigenvalues for I = 0.5 are [0.80055026+0.27810645j 0.80055026-0.27810645j]\n"
     ]
    }
   ],
   "source": [
    "rs0 = resting_state(0, 0.2, 0.2, 0.8)\n",
    "rs05 = resting_state(0.5, 0.2, 0.2, 0.8)\n",
    "\n",
    "# Function for the Jacobi matrix\n",
    "def Jac(u):\n",
    "    J = np.zeros([2,2])\n",
    "    J[0,0] = 5 - 5*u**2\n",
    "    J[0,1] = -5\n",
    "    J[1,0] = 1/5\n",
    "    J[1,1] = -4/25\n",
    "    return J\n",
    "\n",
    "# Jacobi matrices at I=0 and I=0.5.\n",
    "J0 = Jac(rs0[0])\n",
    "J05 = Jac(rs05[0])\n",
    "\n",
    "# Built in NumPy function to calculate the eigenvalues.\n",
    "print('eigenvalues for I = 0 are' +' ' +str(np.linalg.eigvals(J0)))\n",
    "print('eigenvalues for I = 0.5 are' +' ' +str(np.linalg.eigvals(J05)))"
   ]
  },
  {
   "cell_type": "markdown",
   "metadata": {},
   "source": [
    "***📝 Discussion for question 3.3***\n",
    "\n",
    "When the stimulus I is zero the eigenvalues are both negative real numbers, but when the stimulus is added at I = 0.5, both eigenvalues become complex numbers, one in the positive real and imaginary quadrant, one in the positive real and negative imaginary quadrant."
   ]
  },
  {
   "cell_type": "markdown",
   "metadata": {},
   "source": [
    "**3.4** For this question, we set $I = 0$ and $\\gamma = 5$.\n",
    "\n",
    "(a) Use the function `resting_state()` you wrote for **3.1** to find three fixed points, $(u_{(0)}^*, v_{(0)}^*)$, $(u_{(1)}^*, v_{(1)}^*)$ and $(u_{(2)}^*, v_{(2)}^*)$, using the initial conditions provided in the NumPy array `uv0` below (each row of the array constitutes a pair of initial conditions for one of the three fixed points).\n",
    "\n",
    "(b) Compute the numerical solution $(u_n, v_n), n=0, 1, 2, \\dots$ using the initial condition $(u_{(0)}^* + \\delta, v_{(0)}^* + \\delta)$, for $\\delta \\in \\{0, 0.3, 0.6, 1.0\\}$. This simulates the activity of a cell starting at a small perturbation $\\delta$ of one of its resting states, in this case $(u_{(0)}^*, v_{(0)}^*)$.\n",
    "\n",
    "Plot your results in a similar way as in question **3.2**, and discuss your observations in less than 150 words. In particular, does the solution always return to the same fixed point, i.e. the same resting state?\n",
    "\n",
    "**[5 marks]**"
   ]
  },
  {
   "cell_type": "code",
   "execution_count": 36,
   "metadata": {},
   "outputs": [
    {
     "name": "stdout",
     "output_type": "stream",
     "text": [
      "(a)\n",
      "[array([-1.63022488, -0.18604498]), array([0.17732319, 0.17546464]), array([-1.63022488, -0.18604498])]\n",
      "(b)\n"
     ]
    },
    {
     "data": {
      "text/plain": [
       "<function matplotlib.pyplot.show(*args, **kw)>"
      ]
     },
     "execution_count": 36,
     "metadata": {},
     "output_type": "execute_result"
    },
    {
     "data": {
      "image/png": "[encoded data removed]",
      "text/plain": [
       "<Figure size 432x288 with 4 Axes>"
      ]
     },
     "metadata": {
      "needs_background": "light"
     },
     "output_type": "display_data"
    }
   ],
   "source": [
    "import numpy as np\n",
    "\n",
    "# Initial conditions\n",
    "uv0 = np.array([[0.83928724, 0.64551717],\n",
    "                [0.03831243, 0.43144263],\n",
    "                [-1.7232432, -0.2604498]])\n",
    "\n",
    "uv = []\n",
    "# using function from 3.1 to find the three fixed points.\n",
    "for x in uv0:\n",
    "    uv.append(resting_state(0, x[0], x[1], 5))\n",
    "    \n",
    "print('(a)')\n",
    "print(uv)\n",
    "    \n",
    "print('(b)')\n",
    "#List of time points equally spaced apart.\n",
    "t = np.linspace(0, 100, 1001)\n",
    "# Time interval.\n",
    "dt = 100 / (1001-1)\n",
    "\n",
    "# list for each value of delta.\n",
    "d = [0,0.3,0.6,1.0]\n",
    "for j in range(0,4):\n",
    "    \n",
    "    u = np.zeros(1001)\n",
    "# Calculating initial condition u using different deltas. \n",
    "    u[0] = uv[0][0] + d[j]\n",
    "\n",
    "# Implementing the Euler method like in 3.2\n",
    "    for i in range(0,1000):\n",
    "        u[i + 1] = F(u[i], 0.8, 0) * dt + u[i]\n",
    "\n",
    "# Same for v.\n",
    "    v = np.zeros(1001)\n",
    "    v[0] = uv[0][0] + d[j]\n",
    "    \n",
    "    for i in range(0,1000):\n",
    "        v[i + 1] = G(0.8, v[i], 5) * dt + v[i]\n",
    "    \n",
    "# Plotting graphs for each value of delta.\n",
    "    plt.subplot(1,4,j+1)\n",
    "    plt.plot(t,u,label=\"u against time\")\n",
    "    plt.plot(t,v,label = \"v against time\")\n",
    "    plt.title('delta = '+str(d[j]))\n",
    "    plt.xlabel(\"t\")\n",
    "    plt.ylabel(\"u(t) & v(t)\")    \n",
    "    plt.legend(loc=\"lower right\")\n",
    "    \n",
    "plt.subplots_adjust(right = 2.9)\n",
    "plt.show"
   ]
  },
  {
   "cell_type": "markdown",
   "metadata": {},
   "source": [
    "***📝 Discussion for question 3.4***\n",
    "\n",
    "The initial values for u and v are different in each graph, as they were directly dependent on the value of delta. Apart from that the graphs are all almost identical, with both u and v returning quickly to their resting values, u at about -2.0, and v at about 0.5. This could be because for this question, we set I to be zero which means there is no stimulus. The variables will therefore return to their resting state quickly, whatever their initial values are."
   ]
  }
 ],
 "metadata": {
  "kernelspec": {
   "display_name": "Python 3",
   "language": "python",
   "name": "python3"
  },
  "language_info": {
   "codemirror_mode": {
    "name": "ipython",
    "version": 3
   },
   "file_extension": ".py",
   "mimetype": "text/x-python",
   "name": "python",
   "nbconvert_exporter": "python",
   "pygments_lexer": "ipython3",
   "version": "3.8.3"
  }
 },
 "nbformat": 4,
 "nbformat_minor": 4
}
